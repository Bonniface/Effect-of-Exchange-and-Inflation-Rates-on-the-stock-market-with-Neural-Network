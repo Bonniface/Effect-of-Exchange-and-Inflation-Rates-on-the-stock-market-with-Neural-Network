{
 "cells": [
  {
   "cell_type": "code",
   "execution_count": 1,
   "id": "4cc7cbb4",
   "metadata": {},
   "outputs": [],
   "source": [
    "import pandas as pd \n",
    "import numpy as np\n",
    "import matplotlib.pyplot as plt"
   ]
  },
  {
   "cell_type": "code",
   "execution_count": 5,
   "id": "0b3e08e9-4cd6-41bb-aef6-422a66834b71",
   "metadata": {},
   "outputs": [
    {
     "data": {
      "text/html": [
       "<div>\n",
       "<style scoped>\n",
       "    .dataframe tbody tr th:only-of-type {\n",
       "        vertical-align: middle;\n",
       "    }\n",
       "\n",
       "    .dataframe tbody tr th {\n",
       "        vertical-align: top;\n",
       "    }\n",
       "\n",
       "    .dataframe thead th {\n",
       "        text-align: right;\n",
       "    }\n",
       "</style>\n",
       "<table border=\"1\" class=\"dataframe\">\n",
       "  <thead>\n",
       "    <tr style=\"text-align: right;\">\n",
       "      <th></th>\n",
       "      <th>Date</th>\n",
       "      <th>USDGHS</th>\n",
       "      <th>GBPGHS</th>\n",
       "    </tr>\n",
       "  </thead>\n",
       "  <tbody>\n",
       "    <tr>\n",
       "      <th>0</th>\n",
       "      <td>31 Dec 2020</td>\n",
       "      <td>7.8787</td>\n",
       "      <td>5.7631</td>\n",
       "    </tr>\n",
       "    <tr>\n",
       "      <th>1</th>\n",
       "      <td>30 Dec 2020</td>\n",
       "      <td>7.8087</td>\n",
       "      <td>5.7371</td>\n",
       "    </tr>\n",
       "    <tr>\n",
       "      <th>2</th>\n",
       "      <td>29 Dec 2020</td>\n",
       "      <td>7.7383</td>\n",
       "      <td>5.7351</td>\n",
       "    </tr>\n",
       "    <tr>\n",
       "      <th>3</th>\n",
       "      <td>24 Dec 2020</td>\n",
       "      <td>7.7779</td>\n",
       "      <td>5.7351</td>\n",
       "    </tr>\n",
       "    <tr>\n",
       "      <th>4</th>\n",
       "      <td>23 Dec 2020</td>\n",
       "      <td>7.7344</td>\n",
       "      <td>5.7241</td>\n",
       "    </tr>\n",
       "  </tbody>\n",
       "</table>\n",
       "</div>"
      ],
      "text/plain": [
       "          Date  USDGHS  GBPGHS\n",
       "0  31 Dec 2020  7.8787  5.7631\n",
       "1  30 Dec 2020  7.8087  5.7371\n",
       "2  29 Dec 2020  7.7383  5.7351\n",
       "3  24 Dec 2020  7.7779  5.7351\n",
       "4  23 Dec 2020  7.7344  5.7241"
      ]
     },
     "execution_count": 5,
     "metadata": {},
     "output_type": "execute_result"
    }
   ],
   "source": [
    "df = pd.read_csv('../datasets/Interbank FX Rates Historical (full).csv')"
   ]
  },
  {
   "cell_type": "code",
   "execution_count": 6,
   "id": "5569fa32",
   "metadata": {},
   "outputs": [
    {
     "data": {
      "text/html": [
       "<div>\n",
       "<style scoped>\n",
       "    .dataframe tbody tr th:only-of-type {\n",
       "        vertical-align: middle;\n",
       "    }\n",
       "\n",
       "    .dataframe tbody tr th {\n",
       "        vertical-align: top;\n",
       "    }\n",
       "\n",
       "    .dataframe thead th {\n",
       "        text-align: right;\n",
       "    }\n",
       "</style>\n",
       "<table border=\"1\" class=\"dataframe\">\n",
       "  <thead>\n",
       "    <tr style=\"text-align: right;\">\n",
       "      <th></th>\n",
       "      <th>USDGHS</th>\n",
       "      <th>GBPGHS</th>\n",
       "    </tr>\n",
       "  </thead>\n",
       "  <tbody>\n",
       "    <tr>\n",
       "      <th>count</th>\n",
       "      <td>4748.000000</td>\n",
       "      <td>4748.000000</td>\n",
       "    </tr>\n",
       "    <tr>\n",
       "      <th>mean</th>\n",
       "      <td>4.320325</td>\n",
       "      <td>3.040635</td>\n",
       "    </tr>\n",
       "    <tr>\n",
       "      <th>std</th>\n",
       "      <td>1.846412</td>\n",
       "      <td>1.547481</td>\n",
       "    </tr>\n",
       "    <tr>\n",
       "      <th>min</th>\n",
       "      <td>0.000000</td>\n",
       "      <td>0.000000</td>\n",
       "    </tr>\n",
       "    <tr>\n",
       "      <th>25%</th>\n",
       "      <td>2.454700</td>\n",
       "      <td>1.522400</td>\n",
       "    </tr>\n",
       "    <tr>\n",
       "      <th>50%</th>\n",
       "      <td>4.878600</td>\n",
       "      <td>3.011850</td>\n",
       "    </tr>\n",
       "    <tr>\n",
       "      <th>75%</th>\n",
       "      <td>5.922800</td>\n",
       "      <td>4.404125</td>\n",
       "    </tr>\n",
       "    <tr>\n",
       "      <th>max</th>\n",
       "      <td>7.878700</td>\n",
       "      <td>5.763100</td>\n",
       "    </tr>\n",
       "  </tbody>\n",
       "</table>\n",
       "</div>"
      ],
      "text/plain": [
       "            USDGHS       GBPGHS\n",
       "count  4748.000000  4748.000000\n",
       "mean      4.320325     3.040635\n",
       "std       1.846412     1.547481\n",
       "min       0.000000     0.000000\n",
       "25%       2.454700     1.522400\n",
       "50%       4.878600     3.011850\n",
       "75%       5.922800     4.404125\n",
       "max       7.878700     5.763100"
      ]
     },
     "execution_count": 6,
     "metadata": {},
     "output_type": "execute_result"
    }
   ],
   "source": [
    "df['USDGHS'] = pd.to_numeric(df['USDGHS'], errors='coerce')\n",
    "df['GBPGHS'] = pd.to_numeric(df['GBPGHS'], errors='coerce')\n",
    "df['Date'] = pd.to_datetime(df['Date'])\n",
    "df = df.set_index('Date')\n",
    "# Resample the DataFrame to a daily frequency and forward-fill missing values\n",
    "df = df.resample('D').ffill()\n",
    "df = df.fillna(method='bfill')\n",
    "df.describe()"
   ]
  },
  {
   "cell_type": "code",
   "execution_count": 7,
   "id": "5859b993",
   "metadata": {},
   "outputs": [],
   "source": [
    "USDGHS = df['USDGHS']"
   ]
  },
  {
   "cell_type": "markdown",
   "id": "9010b5c3",
   "metadata": {
    "tags": []
   },
   "source": [
    "It is not necessary to check for autocorrelation in time series before using LSTM. However, it is important to check for autocorrelation in time series data before using any time series model. Autocorrelation is a measure of the correlation between the values of a time series at different points in time. If there is autocorrelation in the data, it means that the values of the time series at one point in time are correlated with the values at other points in time. This can lead to biased estimates of the model parameters and can affect the accuracy of the model predictions"
   ]
  }
 ],
 "metadata": {
  "kernelspec": {
   "display_name": "Python 3 (ipykernel)",
   "language": "python",
   "name": "python3"
  },
  "language_info": {
   "codemirror_mode": {
    "name": "ipython",
    "version": 3
   },
   "file_extension": ".py",
   "mimetype": "text/x-python",
   "name": "python",
   "nbconvert_exporter": "python",
   "pygments_lexer": "ipython3",
   "version": "3.10.9"
  },
  "vscode": {
   "interpreter": {
    "hash": "fd38add5c678166e7d547c33298e570198ca7eee133fa41def43694386189737"
   }
  }
 },
 "nbformat": 4,
 "nbformat_minor": 5
}
